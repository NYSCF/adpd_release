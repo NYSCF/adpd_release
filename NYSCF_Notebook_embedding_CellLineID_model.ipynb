{
 "cells": [
  {
   "cell_type": "code",
   "execution_count": null,
   "metadata": {},
   "outputs": [],
   "source": [
    "#@title Default title text\n",
    "# Licensed under the Attribution-NonCommercial-ShareAlike 4.0 International."
   ]
  },
  {
   "cell_type": "code",
   "execution_count": 1,
   "metadata": {},
   "outputs": [
    {
     "output_type": "stream",
     "name": "stdout",
     "text": [
      "pandas version 1.1.0\nnumpy version 1.18.5\nscipy version 1.4.1\nsklearn version 0.23.1\n"
     ]
    }
   ],
   "source": [
    "### To run the script simply replace the embedding data path with the path to the embedding data in your pc and run all the cells in this script. To obtain the same results pubblished make sure that the libraries listed below are the same versions as stated here\n",
    "### Running time: ~ 15'\n",
    "\n",
    "import pandas as pd\n",
    "import numpy as np\n",
    "import scipy\n",
    "import sklearn\n",
    "import sklearn.linear_model\n",
    "import sklearn.ensemble\n",
    "\n",
    "print('pandas version', pd.__version__)       # version 1.1.0 was used in the paper\n",
    "print('numpy version', np.__version__)        # version 1.19.1 was used in the paper\n",
    "print('scipy version', scipy.__version__)     #  version 1.4.1 was used in the paper\n",
    "print('sklearn version', sklearn.__version__) # 0.23.1 was used in the paper\n",
    "\n"
   ]
  },
  {
   "cell_type": "code",
   "execution_count": 2,
   "metadata": {},
   "outputs": [],
   "source": [
    "# TODO: Change to final paths when available.\n",
    "EMBEDDING_DATA_PATH = '~/cell_embeddings_normalized_well_mean.h5'\n"
   ]
  },
  {
   "cell_type": "code",
   "execution_count": 3,
   "metadata": {},
   "outputs": [
    {
     "output_type": "execute_result",
     "data": {
      "text/plain": [
       "                                             0         1         2    \\\n",
       "batch plateset plate well cell_line_id                                 \n",
       "1     0        01    A01  35           -0.011380  0.015596 -0.000713   \n",
       "2     0        01    A01  35           -0.020697  0.004085  0.000376   \n",
       "3     0        01    A01  35           -0.017980  0.026568  0.001911   \n",
       "4     0        01    A01  35           -0.011012  0.013042  0.001664   \n",
       "1     0        02    A01  35           -0.004354  0.002995  0.003153   \n",
       "...                                          ...       ...       ...   \n",
       "4     0        05    H12  58           -0.002883  0.021034 -0.000698   \n",
       "1     0        06    H12  58           -0.020445  0.035047 -0.002931   \n",
       "2     0        06    H12  58           -0.026524  0.018327 -0.000707   \n",
       "3     0        06    H12  58            0.007209 -0.038815 -0.018416   \n",
       "4     0        06    H12  58           -0.019482  0.015863 -0.003759   \n",
       "\n",
       "                                             3         4         5    \\\n",
       "batch plateset plate well cell_line_id                                 \n",
       "1     0        01    A01  35            0.022472  0.011061  0.008742   \n",
       "2     0        01    A01  35            0.012405  0.003625  0.012532   \n",
       "3     0        01    A01  35            0.003925 -0.002714  0.031943   \n",
       "4     0        01    A01  35           -0.004280 -0.009064  0.014998   \n",
       "1     0        02    A01  35            0.009723  0.012581  0.009024   \n",
       "...                                          ...       ...       ...   \n",
       "4     0        05    H12  58           -0.008323 -0.030163  0.026297   \n",
       "1     0        06    H12  58            0.008438 -0.001349  0.021580   \n",
       "2     0        06    H12  58            0.003034 -0.006621  0.020604   \n",
       "3     0        06    H12  58            0.055958  0.079771 -0.040436   \n",
       "4     0        06    H12  58           -0.000450 -0.013234  0.015898   \n",
       "\n",
       "                                             6         7         8    \\\n",
       "batch plateset plate well cell_line_id                                 \n",
       "1     0        01    A01  35           -0.001814 -0.006121  0.015930   \n",
       "2     0        01    A01  35           -0.000819 -0.010274  0.010611   \n",
       "3     0        01    A01  35           -0.006049 -0.011123  0.004488   \n",
       "4     0        01    A01  35           -0.002295 -0.005095  0.005748   \n",
       "1     0        02    A01  35            0.007631 -0.013057  0.011785   \n",
       "...                                          ...       ...       ...   \n",
       "4     0        05    H12  58           -0.007503  0.004422 -0.010300   \n",
       "1     0        06    H12  58           -0.015623 -0.013258  0.006832   \n",
       "2     0        06    H12  58           -0.007940 -0.007536  0.006090   \n",
       "3     0        06    H12  58            0.014855 -0.020958  0.041535   \n",
       "4     0        06    H12  58           -0.007059 -0.000373 -0.006055   \n",
       "\n",
       "                                             9    ...       310       311  \\\n",
       "batch plateset plate well cell_line_id            ...                       \n",
       "1     0        01    A01  35           -0.008897  ...  0.004009  0.002362   \n",
       "2     0        01    A01  35           -0.008731  ...  0.008230  0.008236   \n",
       "3     0        01    A01  35            0.001495  ...  0.011918  0.012485   \n",
       "4     0        01    A01  35           -0.006788  ...  0.007417  0.008693   \n",
       "1     0        02    A01  35           -0.010185  ...  0.009379  0.004466   \n",
       "...                                          ...  ...       ...       ...   \n",
       "4     0        05    H12  58            0.003006  ...  0.005290 -0.001000   \n",
       "1     0        06    H12  58           -0.005546  ... -0.001105 -0.002010   \n",
       "2     0        06    H12  58           -0.004343  ...  0.001158 -0.001036   \n",
       "3     0        06    H12  58           -0.020445  ... -0.012173  0.007175   \n",
       "4     0        06    H12  58           -0.006970  ... -0.042202 -0.019026   \n",
       "\n",
       "                                             312       313       314  \\\n",
       "batch plateset plate well cell_line_id                                 \n",
       "1     0        01    A01  35            0.005836  0.005494  0.004006   \n",
       "2     0        01    A01  35           -0.003655  0.009392  0.002596   \n",
       "3     0        01    A01  35            0.005318 -0.005615  0.006830   \n",
       "4     0        01    A01  35           -0.001294  0.000942  0.004215   \n",
       "1     0        02    A01  35            0.011103  0.000744  0.008223   \n",
       "...                                          ...       ...       ...   \n",
       "4     0        05    H12  58            0.009243  0.007538 -0.011123   \n",
       "1     0        06    H12  58            0.005750  0.015476 -0.008056   \n",
       "2     0        06    H12  58            0.003468  0.005221 -0.001713   \n",
       "3     0        06    H12  58           -0.003238  0.045570 -0.008343   \n",
       "4     0        06    H12  58            0.010639  0.037015  0.000995   \n",
       "\n",
       "                                             315       316       317  \\\n",
       "batch plateset plate well cell_line_id                                 \n",
       "1     0        01    A01  35            0.001027 -0.005221  0.013420   \n",
       "2     0        01    A01  35            0.004486 -0.000056  0.002468   \n",
       "3     0        01    A01  35           -0.011707 -0.006400  0.016804   \n",
       "4     0        01    A01  35           -0.002452 -0.009201  0.002686   \n",
       "1     0        02    A01  35           -0.005647  0.007555  0.014263   \n",
       "...                                          ...       ...       ...   \n",
       "4     0        05    H12  58           -0.012950  0.005893  0.008769   \n",
       "1     0        06    H12  58            0.010284 -0.017688  0.009404   \n",
       "2     0        06    H12  58            0.006459  0.009837  0.009122   \n",
       "3     0        06    H12  58            0.080386  0.020263 -0.004837   \n",
       "4     0        06    H12  58            0.037286  0.011398 -0.010200   \n",
       "\n",
       "                                             318       319  \n",
       "batch plateset plate well cell_line_id                      \n",
       "1     0        01    A01  35           -0.007970  0.005291  \n",
       "2     0        01    A01  35           -0.001958 -0.007056  \n",
       "3     0        01    A01  35           -0.005372  0.006547  \n",
       "4     0        01    A01  35           -0.009696  0.004878  \n",
       "1     0        02    A01  35           -0.003439  0.009431  \n",
       "...                                          ...       ...  \n",
       "4     0        05    H12  58           -0.000638 -0.005162  \n",
       "1     0        06    H12  58            0.002734 -0.015022  \n",
       "2     0        06    H12  58            0.008133 -0.005013  \n",
       "3     0        06    H12  58            0.013236 -0.035910  \n",
       "4     0        06    H12  58            0.032780 -0.033526  \n",
       "\n",
       "[4577 rows x 320 columns]"
      ],
      "text/html": "<div>\n<style scoped>\n    .dataframe tbody tr th:only-of-type {\n        vertical-align: middle;\n    }\n\n    .dataframe tbody tr th {\n        vertical-align: top;\n    }\n\n    .dataframe thead th {\n        text-align: right;\n    }\n</style>\n<table border=\"1\" class=\"dataframe\">\n  <thead>\n    <tr style=\"text-align: right;\">\n      <th></th>\n      <th></th>\n      <th></th>\n      <th></th>\n      <th></th>\n      <th>0</th>\n      <th>1</th>\n      <th>2</th>\n      <th>3</th>\n      <th>4</th>\n      <th>5</th>\n      <th>6</th>\n      <th>7</th>\n      <th>8</th>\n      <th>9</th>\n      <th>...</th>\n      <th>310</th>\n      <th>311</th>\n      <th>312</th>\n      <th>313</th>\n      <th>314</th>\n      <th>315</th>\n      <th>316</th>\n      <th>317</th>\n      <th>318</th>\n      <th>319</th>\n    </tr>\n    <tr>\n      <th>batch</th>\n      <th>plateset</th>\n      <th>plate</th>\n      <th>well</th>\n      <th>cell_line_id</th>\n      <th></th>\n      <th></th>\n      <th></th>\n      <th></th>\n      <th></th>\n      <th></th>\n      <th></th>\n      <th></th>\n      <th></th>\n      <th></th>\n      <th></th>\n      <th></th>\n      <th></th>\n      <th></th>\n      <th></th>\n      <th></th>\n      <th></th>\n      <th></th>\n      <th></th>\n      <th></th>\n      <th></th>\n    </tr>\n  </thead>\n  <tbody>\n    <tr>\n      <th>1</th>\n      <th>0</th>\n      <th>01</th>\n      <th>A01</th>\n      <th>35</th>\n      <td>-0.011380</td>\n      <td>0.015596</td>\n      <td>-0.000713</td>\n      <td>0.022472</td>\n      <td>0.011061</td>\n      <td>0.008742</td>\n      <td>-0.001814</td>\n      <td>-0.006121</td>\n      <td>0.015930</td>\n      <td>-0.008897</td>\n      <td>...</td>\n      <td>0.004009</td>\n      <td>0.002362</td>\n      <td>0.005836</td>\n      <td>0.005494</td>\n      <td>0.004006</td>\n      <td>0.001027</td>\n      <td>-0.005221</td>\n      <td>0.013420</td>\n      <td>-0.007970</td>\n      <td>0.005291</td>\n    </tr>\n    <tr>\n      <th>2</th>\n      <th>0</th>\n      <th>01</th>\n      <th>A01</th>\n      <th>35</th>\n      <td>-0.020697</td>\n      <td>0.004085</td>\n      <td>0.000376</td>\n      <td>0.012405</td>\n      <td>0.003625</td>\n      <td>0.012532</td>\n      <td>-0.000819</td>\n      <td>-0.010274</td>\n      <td>0.010611</td>\n      <td>-0.008731</td>\n      <td>...</td>\n      <td>0.008230</td>\n      <td>0.008236</td>\n      <td>-0.003655</td>\n      <td>0.009392</td>\n      <td>0.002596</td>\n      <td>0.004486</td>\n      <td>-0.000056</td>\n      <td>0.002468</td>\n      <td>-0.001958</td>\n      <td>-0.007056</td>\n    </tr>\n    <tr>\n      <th>3</th>\n      <th>0</th>\n      <th>01</th>\n      <th>A01</th>\n      <th>35</th>\n      <td>-0.017980</td>\n      <td>0.026568</td>\n      <td>0.001911</td>\n      <td>0.003925</td>\n      <td>-0.002714</td>\n      <td>0.031943</td>\n      <td>-0.006049</td>\n      <td>-0.011123</td>\n      <td>0.004488</td>\n      <td>0.001495</td>\n      <td>...</td>\n      <td>0.011918</td>\n      <td>0.012485</td>\n      <td>0.005318</td>\n      <td>-0.005615</td>\n      <td>0.006830</td>\n      <td>-0.011707</td>\n      <td>-0.006400</td>\n      <td>0.016804</td>\n      <td>-0.005372</td>\n      <td>0.006547</td>\n    </tr>\n    <tr>\n      <th>4</th>\n      <th>0</th>\n      <th>01</th>\n      <th>A01</th>\n      <th>35</th>\n      <td>-0.011012</td>\n      <td>0.013042</td>\n      <td>0.001664</td>\n      <td>-0.004280</td>\n      <td>-0.009064</td>\n      <td>0.014998</td>\n      <td>-0.002295</td>\n      <td>-0.005095</td>\n      <td>0.005748</td>\n      <td>-0.006788</td>\n      <td>...</td>\n      <td>0.007417</td>\n      <td>0.008693</td>\n      <td>-0.001294</td>\n      <td>0.000942</td>\n      <td>0.004215</td>\n      <td>-0.002452</td>\n      <td>-0.009201</td>\n      <td>0.002686</td>\n      <td>-0.009696</td>\n      <td>0.004878</td>\n    </tr>\n    <tr>\n      <th>1</th>\n      <th>0</th>\n      <th>02</th>\n      <th>A01</th>\n      <th>35</th>\n      <td>-0.004354</td>\n      <td>0.002995</td>\n      <td>0.003153</td>\n      <td>0.009723</td>\n      <td>0.012581</td>\n      <td>0.009024</td>\n      <td>0.007631</td>\n      <td>-0.013057</td>\n      <td>0.011785</td>\n      <td>-0.010185</td>\n      <td>...</td>\n      <td>0.009379</td>\n      <td>0.004466</td>\n      <td>0.011103</td>\n      <td>0.000744</td>\n      <td>0.008223</td>\n      <td>-0.005647</td>\n      <td>0.007555</td>\n      <td>0.014263</td>\n      <td>-0.003439</td>\n      <td>0.009431</td>\n    </tr>\n    <tr>\n      <th>...</th>\n      <th>...</th>\n      <th>...</th>\n      <th>...</th>\n      <th>...</th>\n      <td>...</td>\n      <td>...</td>\n      <td>...</td>\n      <td>...</td>\n      <td>...</td>\n      <td>...</td>\n      <td>...</td>\n      <td>...</td>\n      <td>...</td>\n      <td>...</td>\n      <td>...</td>\n      <td>...</td>\n      <td>...</td>\n      <td>...</td>\n      <td>...</td>\n      <td>...</td>\n      <td>...</td>\n      <td>...</td>\n      <td>...</td>\n      <td>...</td>\n      <td>...</td>\n    </tr>\n    <tr>\n      <th>4</th>\n      <th>0</th>\n      <th>05</th>\n      <th>H12</th>\n      <th>58</th>\n      <td>-0.002883</td>\n      <td>0.021034</td>\n      <td>-0.000698</td>\n      <td>-0.008323</td>\n      <td>-0.030163</td>\n      <td>0.026297</td>\n      <td>-0.007503</td>\n      <td>0.004422</td>\n      <td>-0.010300</td>\n      <td>0.003006</td>\n      <td>...</td>\n      <td>0.005290</td>\n      <td>-0.001000</td>\n      <td>0.009243</td>\n      <td>0.007538</td>\n      <td>-0.011123</td>\n      <td>-0.012950</td>\n      <td>0.005893</td>\n      <td>0.008769</td>\n      <td>-0.000638</td>\n      <td>-0.005162</td>\n    </tr>\n    <tr>\n      <th>1</th>\n      <th>0</th>\n      <th>06</th>\n      <th>H12</th>\n      <th>58</th>\n      <td>-0.020445</td>\n      <td>0.035047</td>\n      <td>-0.002931</td>\n      <td>0.008438</td>\n      <td>-0.001349</td>\n      <td>0.021580</td>\n      <td>-0.015623</td>\n      <td>-0.013258</td>\n      <td>0.006832</td>\n      <td>-0.005546</td>\n      <td>...</td>\n      <td>-0.001105</td>\n      <td>-0.002010</td>\n      <td>0.005750</td>\n      <td>0.015476</td>\n      <td>-0.008056</td>\n      <td>0.010284</td>\n      <td>-0.017688</td>\n      <td>0.009404</td>\n      <td>0.002734</td>\n      <td>-0.015022</td>\n    </tr>\n    <tr>\n      <th>2</th>\n      <th>0</th>\n      <th>06</th>\n      <th>H12</th>\n      <th>58</th>\n      <td>-0.026524</td>\n      <td>0.018327</td>\n      <td>-0.000707</td>\n      <td>0.003034</td>\n      <td>-0.006621</td>\n      <td>0.020604</td>\n      <td>-0.007940</td>\n      <td>-0.007536</td>\n      <td>0.006090</td>\n      <td>-0.004343</td>\n      <td>...</td>\n      <td>0.001158</td>\n      <td>-0.001036</td>\n      <td>0.003468</td>\n      <td>0.005221</td>\n      <td>-0.001713</td>\n      <td>0.006459</td>\n      <td>0.009837</td>\n      <td>0.009122</td>\n      <td>0.008133</td>\n      <td>-0.005013</td>\n    </tr>\n    <tr>\n      <th>3</th>\n      <th>0</th>\n      <th>06</th>\n      <th>H12</th>\n      <th>58</th>\n      <td>0.007209</td>\n      <td>-0.038815</td>\n      <td>-0.018416</td>\n      <td>0.055958</td>\n      <td>0.079771</td>\n      <td>-0.040436</td>\n      <td>0.014855</td>\n      <td>-0.020958</td>\n      <td>0.041535</td>\n      <td>-0.020445</td>\n      <td>...</td>\n      <td>-0.012173</td>\n      <td>0.007175</td>\n      <td>-0.003238</td>\n      <td>0.045570</td>\n      <td>-0.008343</td>\n      <td>0.080386</td>\n      <td>0.020263</td>\n      <td>-0.004837</td>\n      <td>0.013236</td>\n      <td>-0.035910</td>\n    </tr>\n    <tr>\n      <th>4</th>\n      <th>0</th>\n      <th>06</th>\n      <th>H12</th>\n      <th>58</th>\n      <td>-0.019482</td>\n      <td>0.015863</td>\n      <td>-0.003759</td>\n      <td>-0.000450</td>\n      <td>-0.013234</td>\n      <td>0.015898</td>\n      <td>-0.007059</td>\n      <td>-0.000373</td>\n      <td>-0.006055</td>\n      <td>-0.006970</td>\n      <td>...</td>\n      <td>-0.042202</td>\n      <td>-0.019026</td>\n      <td>0.010639</td>\n      <td>0.037015</td>\n      <td>0.000995</td>\n      <td>0.037286</td>\n      <td>0.011398</td>\n      <td>-0.010200</td>\n      <td>0.032780</td>\n      <td>-0.033526</td>\n    </tr>\n  </tbody>\n</table>\n<p>4577 rows × 320 columns</p>\n</div>"
     },
     "metadata": {},
     "execution_count": 3
    }
   ],
   "source": [
    "embedding_df = pd.read_hdf(EMBEDDING_DATA_PATH)\n",
    "embedding_df"
   ]
  },
  {
   "cell_type": "code",
   "execution_count": 4,
   "metadata": {},
   "outputs": [],
   "source": [
    "def get_train_test_split(data,batch,layout):\n",
    "  data3=data.loc[data.plateset==layout]\n",
    "  data4=data.loc[data.plateset==np.abs(1-layout)]\n",
    "  auxTrain=data3.loc[data3.batch!=batch]\n",
    "  aux_test=data4.loc[data4.batch==batch]\n",
    "  auxTrain=auxTrain.sort_values(axis=0,by=['batch','plate','well'])\n",
    "  X_train=auxTrain.iloc[:,5:]\n",
    "  y_train=auxTrain.cell_line_id\n",
    "\n",
    "  aux_test=aux_test.sort_values(axis=0,by=['batch','plate','well'])\n",
    "  X_test=aux_test.iloc[:,5:]\n",
    "  y_test=aux_test.cell_line_id \n",
    "     \n",
    "  return X_train, X_test, y_train, y_test\n",
    "\n",
    "def get_predictions(model_name,X_train, y_train,X_test):\n",
    "  if model_name == 'LogisticCV':\n",
    "    model = sklearn.linear_model.LogisticRegressionCV(\n",
    "      solver='lbfgs', max_iter=1000000)\n",
    "  elif model_name == 'Logistic':\n",
    "    model = sklearn.linear_model.LogisticRegression(solver='lbfgs')\n",
    "  elif model_name == 'RidgeCV':\n",
    "    model = sklearn.linear_model.RidgeCV()\n",
    "  else:\n",
    "    raise ValueError('Unknown model_name: %s' % model_name)\n",
    "\n",
    "  model.fit(X_train, y_train)\n",
    "  model_predictions = model.predict(X_test)\n",
    "  if model_name == 'RidgeCV':\n",
    "    preds = model.predict(X_test)\n",
    "  else:\n",
    "    preds=model.predict_proba(X_test)\n",
    "    \n",
    "  return preds,model_predictions\n",
    "\n",
    "def get_Cell_level_accuracy(preds,y_test):\n",
    "  predictions=pd.DataFrame(preds,index = y_test.values)        \n",
    "  predictions['cell_line_id'] = predictions.index\n",
    "  preds3=predictions.groupby('cell_line_id').mean()\n",
    "  rank_df = preds3.rank(axis = 1)\n",
    "  top_prediction_df = rank_df.idxmax(axis=1)#.reset_index('cell_line_id')\n",
    "  top_prediction_df = top_prediction_df+1\n",
    "  top_prediction_df.astype(int)\n",
    "  return np.sum(top_prediction_df.index.astype(int) == top_prediction_df)/ top_prediction_df.shape[0]\n",
    "\n",
    "def get_Well_level_accuracy(preds,y_test,model_predictions):\n",
    "  predictions=pd.DataFrame(preds,index = y_test.values) \n",
    "  return np.asarray(np.count_nonzero(model_predictions == y_test)/len(y_test))\n",
    "\n",
    "def run_prediction_model(data, model_name):\n",
    "  \"\"\"Train the model and return the prediction results.\"\"\"\n",
    "  Results = pd.DataFrame(columns=['group1','group2','group3','group4','group5','group6','group7','group8','mean','std'])\n",
    "  \n",
    "  data=data.reset_index()\n",
    "  count=0\n",
    "  for layout in [0,1]: \n",
    "      for batch in np.unique(data.batch):\n",
    "        \n",
    "        X_train, X_test, y_train,y_test = get_train_test_split(data,batch,layout)\n",
    "        \n",
    "        preds,model_predictions=get_predictions(model_name,X_train, y_train,X_test)\n",
    "               \n",
    "        Results.loc['WellLevelAccuracy','group'+str(count+1)] = get_Well_level_accuracy(preds,y_test,model_predictions)\n",
    "        Results.loc['CellLine_Accuracy','group'+str(count+1)] = get_Cell_level_accuracy(preds,y_test)\n",
    "\n",
    "        count+=1\n",
    "\n",
    "  Results.loc['WellLevelAccuracy','mean']=np.mean(Results.loc['WellLevelAccuracy'].values[0:-2])\n",
    "  Results.loc['WellLevelAccuracy','std']=np.std(Results.loc['WellLevelAccuracy'].values[0:-2])\n",
    "  Results.loc['CellLine_Accuracy','mean']=np.mean(Results.loc['CellLine_Accuracy'].values[0:-2])\n",
    "  Results.loc['CellLine_Accuracy','std']=np.std(Results.loc['CellLine_Accuracy'].values[0:-2])\n",
    "\n",
    "  return Results\n"
   ]
  },
  {
   "cell_type": "code",
   "execution_count": 5,
   "metadata": {},
   "outputs": [
    {
     "output_type": "execute_result",
     "data": {
      "text/plain": [
       "                               group1              group2              group3  \\\n",
       "WellLevelAccuracy  0.6631944444444444  0.8498233215547704  0.7932862190812721   \n",
       "CellLine_Accuracy            0.854167              0.9375              0.9375   \n",
       "\n",
       "                               group4    group5              group6  \\\n",
       "WellLevelAccuracy  0.6421052631578947  0.640625  0.9128919860627178   \n",
       "CellLine_Accuracy            0.885417  0.802083            0.979167   \n",
       "\n",
       "                               group7              group8      mean        std  \n",
       "WellLevelAccuracy  0.8226086956521739  0.7491289198606271  0.759208  0.0962458  \n",
       "CellLine_Accuracy            0.958333            0.947917   0.91276  0.0563217  "
      ],
      "text/html": "<div>\n<style scoped>\n    .dataframe tbody tr th:only-of-type {\n        vertical-align: middle;\n    }\n\n    .dataframe tbody tr th {\n        vertical-align: top;\n    }\n\n    .dataframe thead th {\n        text-align: right;\n    }\n</style>\n<table border=\"1\" class=\"dataframe\">\n  <thead>\n    <tr style=\"text-align: right;\">\n      <th></th>\n      <th>group1</th>\n      <th>group2</th>\n      <th>group3</th>\n      <th>group4</th>\n      <th>group5</th>\n      <th>group6</th>\n      <th>group7</th>\n      <th>group8</th>\n      <th>mean</th>\n      <th>std</th>\n    </tr>\n  </thead>\n  <tbody>\n    <tr>\n      <th>WellLevelAccuracy</th>\n      <td>0.6631944444444444</td>\n      <td>0.8498233215547704</td>\n      <td>0.7932862190812721</td>\n      <td>0.6421052631578947</td>\n      <td>0.640625</td>\n      <td>0.9128919860627178</td>\n      <td>0.8226086956521739</td>\n      <td>0.7491289198606271</td>\n      <td>0.759208</td>\n      <td>0.0962458</td>\n    </tr>\n    <tr>\n      <th>CellLine_Accuracy</th>\n      <td>0.854167</td>\n      <td>0.9375</td>\n      <td>0.9375</td>\n      <td>0.885417</td>\n      <td>0.802083</td>\n      <td>0.979167</td>\n      <td>0.958333</td>\n      <td>0.947917</td>\n      <td>0.91276</td>\n      <td>0.0563217</td>\n    </tr>\n  </tbody>\n</table>\n</div>"
     },
     "metadata": {},
     "execution_count": 5
    }
   ],
   "source": [
    "logistic_cv_result = run_prediction_model(embedding_df,'LogisticCV')\n",
    "logistic_cv_result"
   ]
  },
  {
   "cell_type": "code",
   "execution_count": 6,
   "metadata": {},
   "outputs": [
    {
     "output_type": "execute_result",
     "data": {
      "text/plain": [
       "                   mean   std\n",
       "WellLevelAccuracy  0.76   0.1\n",
       "CellLine_Accuracy  0.91  0.06"
      ],
      "text/html": "<div>\n<style scoped>\n    .dataframe tbody tr th:only-of-type {\n        vertical-align: middle;\n    }\n\n    .dataframe tbody tr th {\n        vertical-align: top;\n    }\n\n    .dataframe thead th {\n        text-align: right;\n    }\n</style>\n<table border=\"1\" class=\"dataframe\">\n  <thead>\n    <tr style=\"text-align: right;\">\n      <th></th>\n      <th>mean</th>\n      <th>std</th>\n    </tr>\n  </thead>\n  <tbody>\n    <tr>\n      <th>WellLevelAccuracy</th>\n      <td>0.76</td>\n      <td>0.1</td>\n    </tr>\n    <tr>\n      <th>CellLine_Accuracy</th>\n      <td>0.91</td>\n      <td>0.06</td>\n    </tr>\n  </tbody>\n</table>\n</div>"
     },
     "metadata": {},
     "execution_count": 6
    }
   ],
   "source": [
    "paper_result_df = pd.DataFrame(columns=['mean','std'])\n",
    "paper_result_df.loc['WellLevelAccuracy','mean'] = 0.76\n",
    "paper_result_df.loc['WellLevelAccuracy','std'] = 0.10\n",
    "paper_result_df.loc['CellLine_Accuracy','mean'] = 0.91\n",
    "paper_result_df.loc['CellLine_Accuracy','std'] = 0.06\n",
    "\n",
    "paper_result_df"
   ]
  },
  {
   "cell_type": "code",
   "execution_count": 7,
   "metadata": {},
   "outputs": [],
   "source": [
    "#Raises an error if the results don't match the results stated in the paper\n",
    "pd.testing.assert_frame_equal(logistic_cv_result[['mean', 'std']], paper_result_df, atol=1e-2)"
   ]
  },
  {
   "cell_type": "code",
   "execution_count": null,
   "metadata": {},
   "outputs": [],
   "source": []
  }
 ],
 "metadata": {
  "kernelspec": {
   "display_name": "Python 3",
   "language": "python",
   "name": "python3"
  },
  "language_info": {
   "codemirror_mode": {
    "name": "ipython",
    "version": 3
   },
   "file_extension": ".py",
   "mimetype": "text/x-python",
   "name": "python",
   "nbconvert_exporter": "python",
   "pygments_lexer": "ipython3",
   "version": "3.7.6-final"
  }
 },
 "nbformat": 4,
 "nbformat_minor": 4
}
