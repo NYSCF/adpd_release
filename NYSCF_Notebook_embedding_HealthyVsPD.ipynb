{
 "cells": [
  {
   "cell_type": "code",
   "execution_count": null,
   "metadata": {},
   "outputs": [],
   "source": [
    "#@title Default title text\n",
    "# Licensed under the Attribution-NonCommercial-ShareAlike 4.0 International."
   ]
  },
  {
   "cell_type": "code",
   "execution_count": 3,
   "metadata": {},
   "outputs": [
    {
     "output_type": "stream",
     "name": "stdout",
     "text": [
      "pandas version 1.1.0\nnumpy version 1.18.5\nscipy version 1.4.1\nsklearn version 0.23.1\n"
     ]
    }
   ],
   "source": [
    "### To run the script simply replace the embedding data path with the path to the embedding data in your pc and run all the cells in this script. To obtain the same results pubblished make sure that the libraries listed below are the same versions as stated here\n",
    "### Running time: ~ 1'\n",
    " \n",
    "import pandas as pd\n",
    "import numpy as np\n",
    "import scipy\n",
    "import sklearn\n",
    "import sklearn.linear_model\n",
    "import sklearn.ensemble\n",
    "\n",
    "print('pandas version', pd.__version__)       # version 1.1.0 was used in the paper\n",
    "print('numpy version', np.__version__)        # version 1.19.1 was used in the paper\n",
    "print('scipy version', scipy.__version__)     #  version 1.4.1 was used in the paper\n",
    "print('sklearn version', sklearn.__version__) # 0.23.1 was used in the paper\n",
    "\n"
   ]
  },
  {
   "cell_type": "code",
   "execution_count": 2,
   "metadata": {},
   "outputs": [],
   "source": [
    "# TODO: Change to final paths when available.\n",
    "EMBEDDING_DATA_PATH = '~/tile_embeddings_normalized_well_mean.h5'\n",
    "METADATA_PATH = '~/Schiff et al. Supplementary Tables.xlsx'"
   ]
  },
  {
   "cell_type": "code",
   "execution_count": 4,
   "metadata": {},
   "outputs": [
    {
     "output_type": "execute_result",
     "data": {
      "text/plain": [
       "                                             0         1         2    \\\n",
       "batch plateset plate well cell_line_id                                 \n",
       "1     0        01    A01  35           -0.003832 -0.053635 -0.031690   \n",
       "2     0        01    A01  35            0.022274 -0.056484 -0.035250   \n",
       "3     0        01    A01  35            0.015161 -0.012027 -0.021590   \n",
       "4     0        01    A01  35            0.018679 -0.026285 -0.017298   \n",
       "1     0        02    A01  35           -0.002364 -0.045927 -0.011868   \n",
       "...                                          ...       ...       ...   \n",
       "4     1        11    H12  13           -0.004940 -0.029381  0.004020   \n",
       "1     1        12    H12  13           -0.005450 -0.018399  0.001500   \n",
       "2     1        12    H12  13           -0.009530 -0.009070  0.004975   \n",
       "3     1        12    H12  13           -0.010722 -0.082936 -0.028507   \n",
       "4     1        12    H12  13           -0.010359 -0.044488  0.002807   \n",
       "\n",
       "                                             3         4         5    \\\n",
       "batch plateset plate well cell_line_id                                 \n",
       "1     0        01    A01  35           -0.006442 -0.005141 -0.024213   \n",
       "2     0        01    A01  35           -0.005860 -0.016999 -0.049781   \n",
       "3     0        01    A01  35            0.001127 -0.006178 -0.014007   \n",
       "4     0        01    A01  35            0.001287 -0.003649 -0.019481   \n",
       "1     0        02    A01  35           -0.010643 -0.012125 -0.019325   \n",
       "...                                          ...       ...       ...   \n",
       "4     1        11    H12  13           -0.008192  0.003275 -0.012327   \n",
       "1     1        12    H12  13           -0.019553 -0.004166 -0.020499   \n",
       "2     1        12    H12  13           -0.002393  0.004096 -0.008867   \n",
       "3     1        12    H12  13           -0.046351 -0.017893 -0.055009   \n",
       "4     1        12    H12  13           -0.013388 -0.000038 -0.020769   \n",
       "\n",
       "                                             6         7         8    \\\n",
       "batch plateset plate well cell_line_id                                 \n",
       "1     0        01    A01  35            0.018144 -0.055491 -0.035721   \n",
       "2     0        01    A01  35            0.026826 -0.067544 -0.028236   \n",
       "3     0        01    A01  35            0.022263 -0.019491 -0.003813   \n",
       "4     0        01    A01  35            0.020877 -0.028387 -0.012642   \n",
       "1     0        02    A01  35            0.008511 -0.054144 -0.012824   \n",
       "...                                          ...       ...       ...   \n",
       "4     1        11    H12  13            0.008811 -0.048467 -0.022490   \n",
       "1     1        12    H12  13           -0.002498 -0.041059 -0.018681   \n",
       "2     1        12    H12  13            0.006656  0.002096  0.001669   \n",
       "3     1        12    H12  13           -0.010662 -0.133265 -0.034162   \n",
       "4     1        12    H12  13            0.004471 -0.053527 -0.034339   \n",
       "\n",
       "                                             9    ...       310       311  \\\n",
       "batch plateset plate well cell_line_id            ...                       \n",
       "1     0        01    A01  35           -0.005130  ... -0.011497  0.017889   \n",
       "2     0        01    A01  35           -0.005333  ... -0.016035  0.005888   \n",
       "3     0        01    A01  35            0.003873  ... -0.012009  0.005477   \n",
       "4     0        01    A01  35           -0.000196  ... -0.009035 -0.002165   \n",
       "1     0        02    A01  35            0.014084  ...  0.001100  0.022379   \n",
       "...                                          ...  ...       ...       ...   \n",
       "4     1        11    H12  13            0.017067  ... -0.033368  0.033175   \n",
       "1     1        12    H12  13            0.004016  ... -0.028354  0.032691   \n",
       "2     1        12    H12  13            0.002088  ... -0.013985  0.043906   \n",
       "3     1        12    H12  13            0.019079  ...  0.022348  0.059153   \n",
       "4     1        12    H12  13            0.012224  ... -0.014866  0.039332   \n",
       "\n",
       "                                             312       313       314  \\\n",
       "batch plateset plate well cell_line_id                                 \n",
       "1     0        01    A01  35           -0.021675  0.022078 -0.017706   \n",
       "2     0        01    A01  35           -0.024372  0.014015 -0.010143   \n",
       "3     0        01    A01  35           -0.011697 -0.004516  0.005495   \n",
       "4     0        01    A01  35           -0.008494 -0.015720 -0.000454   \n",
       "1     0        02    A01  35           -0.024466 -0.000028 -0.008784   \n",
       "...                                          ...       ...       ...   \n",
       "4     1        11    H12  13           -0.001780  0.011340 -0.005872   \n",
       "1     1        12    H12  13           -0.004281  0.012742 -0.011195   \n",
       "2     1        12    H12  13            0.018870  0.003000 -0.014602   \n",
       "3     1        12    H12  13           -0.051811  0.056755 -0.077886   \n",
       "4     1        12    H12  13           -0.019766  0.017830 -0.016718   \n",
       "\n",
       "                                             315       316       317  \\\n",
       "batch plateset plate well cell_line_id                                 \n",
       "1     0        01    A01  35            0.020405 -0.014038  0.009244   \n",
       "2     0        01    A01  35            0.027827  0.001345  0.004838   \n",
       "3     0        01    A01  35            0.017369 -0.005781  0.000433   \n",
       "4     0        01    A01  35            0.018913 -0.016147  0.004312   \n",
       "1     0        02    A01  35            0.022262 -0.027353 -0.028354   \n",
       "...                                          ...       ...       ...   \n",
       "4     1        11    H12  13            0.003335  0.002404  0.023151   \n",
       "1     1        12    H12  13            0.017663  0.017207  0.026779   \n",
       "2     1        12    H12  13            0.009916  0.029535  0.029526   \n",
       "3     1        12    H12  13            0.026159  0.003000  0.035577   \n",
       "4     1        12    H12  13            0.001632  0.013883  0.036781   \n",
       "\n",
       "                                             318       319  \n",
       "batch plateset plate well cell_line_id                      \n",
       "1     0        01    A01  35           -0.012189  0.016143  \n",
       "2     0        01    A01  35            0.015076  0.022774  \n",
       "3     0        01    A01  35           -0.004532  0.003598  \n",
       "4     0        01    A01  35           -0.001212 -0.002965  \n",
       "1     0        02    A01  35            0.007130  0.014048  \n",
       "...                                          ...       ...  \n",
       "4     1        11    H12  13            0.007643  0.023990  \n",
       "1     1        12    H12  13           -0.005766  0.020175  \n",
       "2     1        12    H12  13           -0.012254 -0.003028  \n",
       "3     1        12    H12  13            0.019984  0.073564  \n",
       "4     1        12    H12  13           -0.011726  0.006372  \n",
       "\n",
       "[4577 rows x 320 columns]"
      ],
      "text/html": "<div>\n<style scoped>\n    .dataframe tbody tr th:only-of-type {\n        vertical-align: middle;\n    }\n\n    .dataframe tbody tr th {\n        vertical-align: top;\n    }\n\n    .dataframe thead th {\n        text-align: right;\n    }\n</style>\n<table border=\"1\" class=\"dataframe\">\n  <thead>\n    <tr style=\"text-align: right;\">\n      <th></th>\n      <th></th>\n      <th></th>\n      <th></th>\n      <th></th>\n      <th>0</th>\n      <th>1</th>\n      <th>2</th>\n      <th>3</th>\n      <th>4</th>\n      <th>5</th>\n      <th>6</th>\n      <th>7</th>\n      <th>8</th>\n      <th>9</th>\n      <th>...</th>\n      <th>310</th>\n      <th>311</th>\n      <th>312</th>\n      <th>313</th>\n      <th>314</th>\n      <th>315</th>\n      <th>316</th>\n      <th>317</th>\n      <th>318</th>\n      <th>319</th>\n    </tr>\n    <tr>\n      <th>batch</th>\n      <th>plateset</th>\n      <th>plate</th>\n      <th>well</th>\n      <th>cell_line_id</th>\n      <th></th>\n      <th></th>\n      <th></th>\n      <th></th>\n      <th></th>\n      <th></th>\n      <th></th>\n      <th></th>\n      <th></th>\n      <th></th>\n      <th></th>\n      <th></th>\n      <th></th>\n      <th></th>\n      <th></th>\n      <th></th>\n      <th></th>\n      <th></th>\n      <th></th>\n      <th></th>\n      <th></th>\n    </tr>\n  </thead>\n  <tbody>\n    <tr>\n      <th>1</th>\n      <th>0</th>\n      <th>01</th>\n      <th>A01</th>\n      <th>35</th>\n      <td>-0.003832</td>\n      <td>-0.053635</td>\n      <td>-0.031690</td>\n      <td>-0.006442</td>\n      <td>-0.005141</td>\n      <td>-0.024213</td>\n      <td>0.018144</td>\n      <td>-0.055491</td>\n      <td>-0.035721</td>\n      <td>-0.005130</td>\n      <td>...</td>\n      <td>-0.011497</td>\n      <td>0.017889</td>\n      <td>-0.021675</td>\n      <td>0.022078</td>\n      <td>-0.017706</td>\n      <td>0.020405</td>\n      <td>-0.014038</td>\n      <td>0.009244</td>\n      <td>-0.012189</td>\n      <td>0.016143</td>\n    </tr>\n    <tr>\n      <th>2</th>\n      <th>0</th>\n      <th>01</th>\n      <th>A01</th>\n      <th>35</th>\n      <td>0.022274</td>\n      <td>-0.056484</td>\n      <td>-0.035250</td>\n      <td>-0.005860</td>\n      <td>-0.016999</td>\n      <td>-0.049781</td>\n      <td>0.026826</td>\n      <td>-0.067544</td>\n      <td>-0.028236</td>\n      <td>-0.005333</td>\n      <td>...</td>\n      <td>-0.016035</td>\n      <td>0.005888</td>\n      <td>-0.024372</td>\n      <td>0.014015</td>\n      <td>-0.010143</td>\n      <td>0.027827</td>\n      <td>0.001345</td>\n      <td>0.004838</td>\n      <td>0.015076</td>\n      <td>0.022774</td>\n    </tr>\n    <tr>\n      <th>3</th>\n      <th>0</th>\n      <th>01</th>\n      <th>A01</th>\n      <th>35</th>\n      <td>0.015161</td>\n      <td>-0.012027</td>\n      <td>-0.021590</td>\n      <td>0.001127</td>\n      <td>-0.006178</td>\n      <td>-0.014007</td>\n      <td>0.022263</td>\n      <td>-0.019491</td>\n      <td>-0.003813</td>\n      <td>0.003873</td>\n      <td>...</td>\n      <td>-0.012009</td>\n      <td>0.005477</td>\n      <td>-0.011697</td>\n      <td>-0.004516</td>\n      <td>0.005495</td>\n      <td>0.017369</td>\n      <td>-0.005781</td>\n      <td>0.000433</td>\n      <td>-0.004532</td>\n      <td>0.003598</td>\n    </tr>\n    <tr>\n      <th>4</th>\n      <th>0</th>\n      <th>01</th>\n      <th>A01</th>\n      <th>35</th>\n      <td>0.018679</td>\n      <td>-0.026285</td>\n      <td>-0.017298</td>\n      <td>0.001287</td>\n      <td>-0.003649</td>\n      <td>-0.019481</td>\n      <td>0.020877</td>\n      <td>-0.028387</td>\n      <td>-0.012642</td>\n      <td>-0.000196</td>\n      <td>...</td>\n      <td>-0.009035</td>\n      <td>-0.002165</td>\n      <td>-0.008494</td>\n      <td>-0.015720</td>\n      <td>-0.000454</td>\n      <td>0.018913</td>\n      <td>-0.016147</td>\n      <td>0.004312</td>\n      <td>-0.001212</td>\n      <td>-0.002965</td>\n    </tr>\n    <tr>\n      <th>1</th>\n      <th>0</th>\n      <th>02</th>\n      <th>A01</th>\n      <th>35</th>\n      <td>-0.002364</td>\n      <td>-0.045927</td>\n      <td>-0.011868</td>\n      <td>-0.010643</td>\n      <td>-0.012125</td>\n      <td>-0.019325</td>\n      <td>0.008511</td>\n      <td>-0.054144</td>\n      <td>-0.012824</td>\n      <td>0.014084</td>\n      <td>...</td>\n      <td>0.001100</td>\n      <td>0.022379</td>\n      <td>-0.024466</td>\n      <td>-0.000028</td>\n      <td>-0.008784</td>\n      <td>0.022262</td>\n      <td>-0.027353</td>\n      <td>-0.028354</td>\n      <td>0.007130</td>\n      <td>0.014048</td>\n    </tr>\n    <tr>\n      <th>...</th>\n      <th>...</th>\n      <th>...</th>\n      <th>...</th>\n      <th>...</th>\n      <td>...</td>\n      <td>...</td>\n      <td>...</td>\n      <td>...</td>\n      <td>...</td>\n      <td>...</td>\n      <td>...</td>\n      <td>...</td>\n      <td>...</td>\n      <td>...</td>\n      <td>...</td>\n      <td>...</td>\n      <td>...</td>\n      <td>...</td>\n      <td>...</td>\n      <td>...</td>\n      <td>...</td>\n      <td>...</td>\n      <td>...</td>\n      <td>...</td>\n      <td>...</td>\n    </tr>\n    <tr>\n      <th>4</th>\n      <th>1</th>\n      <th>11</th>\n      <th>H12</th>\n      <th>13</th>\n      <td>-0.004940</td>\n      <td>-0.029381</td>\n      <td>0.004020</td>\n      <td>-0.008192</td>\n      <td>0.003275</td>\n      <td>-0.012327</td>\n      <td>0.008811</td>\n      <td>-0.048467</td>\n      <td>-0.022490</td>\n      <td>0.017067</td>\n      <td>...</td>\n      <td>-0.033368</td>\n      <td>0.033175</td>\n      <td>-0.001780</td>\n      <td>0.011340</td>\n      <td>-0.005872</td>\n      <td>0.003335</td>\n      <td>0.002404</td>\n      <td>0.023151</td>\n      <td>0.007643</td>\n      <td>0.023990</td>\n    </tr>\n    <tr>\n      <th>1</th>\n      <th>1</th>\n      <th>12</th>\n      <th>H12</th>\n      <th>13</th>\n      <td>-0.005450</td>\n      <td>-0.018399</td>\n      <td>0.001500</td>\n      <td>-0.019553</td>\n      <td>-0.004166</td>\n      <td>-0.020499</td>\n      <td>-0.002498</td>\n      <td>-0.041059</td>\n      <td>-0.018681</td>\n      <td>0.004016</td>\n      <td>...</td>\n      <td>-0.028354</td>\n      <td>0.032691</td>\n      <td>-0.004281</td>\n      <td>0.012742</td>\n      <td>-0.011195</td>\n      <td>0.017663</td>\n      <td>0.017207</td>\n      <td>0.026779</td>\n      <td>-0.005766</td>\n      <td>0.020175</td>\n    </tr>\n    <tr>\n      <th>2</th>\n      <th>1</th>\n      <th>12</th>\n      <th>H12</th>\n      <th>13</th>\n      <td>-0.009530</td>\n      <td>-0.009070</td>\n      <td>0.004975</td>\n      <td>-0.002393</td>\n      <td>0.004096</td>\n      <td>-0.008867</td>\n      <td>0.006656</td>\n      <td>0.002096</td>\n      <td>0.001669</td>\n      <td>0.002088</td>\n      <td>...</td>\n      <td>-0.013985</td>\n      <td>0.043906</td>\n      <td>0.018870</td>\n      <td>0.003000</td>\n      <td>-0.014602</td>\n      <td>0.009916</td>\n      <td>0.029535</td>\n      <td>0.029526</td>\n      <td>-0.012254</td>\n      <td>-0.003028</td>\n    </tr>\n    <tr>\n      <th>3</th>\n      <th>1</th>\n      <th>12</th>\n      <th>H12</th>\n      <th>13</th>\n      <td>-0.010722</td>\n      <td>-0.082936</td>\n      <td>-0.028507</td>\n      <td>-0.046351</td>\n      <td>-0.017893</td>\n      <td>-0.055009</td>\n      <td>-0.010662</td>\n      <td>-0.133265</td>\n      <td>-0.034162</td>\n      <td>0.019079</td>\n      <td>...</td>\n      <td>0.022348</td>\n      <td>0.059153</td>\n      <td>-0.051811</td>\n      <td>0.056755</td>\n      <td>-0.077886</td>\n      <td>0.026159</td>\n      <td>0.003000</td>\n      <td>0.035577</td>\n      <td>0.019984</td>\n      <td>0.073564</td>\n    </tr>\n    <tr>\n      <th>4</th>\n      <th>1</th>\n      <th>12</th>\n      <th>H12</th>\n      <th>13</th>\n      <td>-0.010359</td>\n      <td>-0.044488</td>\n      <td>0.002807</td>\n      <td>-0.013388</td>\n      <td>-0.000038</td>\n      <td>-0.020769</td>\n      <td>0.004471</td>\n      <td>-0.053527</td>\n      <td>-0.034339</td>\n      <td>0.012224</td>\n      <td>...</td>\n      <td>-0.014866</td>\n      <td>0.039332</td>\n      <td>-0.019766</td>\n      <td>0.017830</td>\n      <td>-0.016718</td>\n      <td>0.001632</td>\n      <td>0.013883</td>\n      <td>0.036781</td>\n      <td>-0.011726</td>\n      <td>0.006372</td>\n    </tr>\n  </tbody>\n</table>\n<p>4577 rows × 320 columns</p>\n</div>"
     },
     "metadata": {},
     "execution_count": 4
    }
   ],
   "source": [
    "embedding_df = pd.read_hdf(EMBEDDING_DATA_PATH)\n",
    "embedding_df"
   ]
  },
  {
   "cell_type": "code",
   "execution_count": 5,
   "metadata": {},
   "outputs": [
    {
     "output_type": "execute_result",
     "data": {
      "text/plain": [
       "   Cell line ID Donor ID  Cross-val fold  Pair ID Disease state Sex  Age  \\\n",
       "0           01     50121             1.0      0.0       Healthy   F   54   \n",
       "1           02     51255             1.0      0.0      LRRK2 PD   F   56   \n",
       "2           03     51260             2.0      1.0       Healthy   F   64   \n",
       "3           04     51253             2.0      1.0   Sporadic PD   F   63   \n",
       "4           05     50114             4.0      2.0       Healthy   M   67   \n",
       "..          ...      ...             ...      ...           ...  ..  ...   \n",
       "91          92     51239             NaN      NaN       Healthy   M   67   \n",
       "92          93     51093             NaN      NaN       Healthy   F   77   \n",
       "93          94     51148             NaN      NaN       Healthy   M   65   \n",
       "94          95     50492             NaN      NaN      LRRK2 PD   M   51   \n",
       "95          96     50626             NaN      NaN   Sporadic PD   M   70   \n",
       "\n",
       "    European ancestry UPDRS score  Biopsy collection year   Biopsy location  \\\n",
       "0                0.99                                2012       unspecified   \n",
       "1                0.92          71                    2017  left upper thigh   \n",
       "2                0.98                                2017    left upper leg   \n",
       "3                0.99          23                    2017    left upper arm   \n",
       "4                0.94                                2012       unspecified   \n",
       "..                ...         ...                     ...               ...   \n",
       "91               0.99                                2019         right arm   \n",
       "92               0.99                                2019          left arm   \n",
       "93               0.90                                2019         upper arm   \n",
       "94               0.91                                2019    left upper arm   \n",
       "95               0.97          43                    2013       unspecified   \n",
       "\n",
       "   Thaw format Thaw freeze date  Doubling time  \n",
       "0           6w       2019-06-17       3.316818  \n",
       "1           6w       2019-06-17       2.656416  \n",
       "2       12w→6w       2019-08-09       2.704582  \n",
       "3           6w       2019-07-30       3.411927  \n",
       "4           6w       2019-07-31       2.773009  \n",
       "..         ...              ...            ...  \n",
       "91          6w       2019-07-31       2.329057  \n",
       "92          6w       2019-06-19       3.080005  \n",
       "93          6w       2019-08-13       2.210402  \n",
       "94          6w       2019-07-18       3.553737  \n",
       "95          6w       2019-09-03       2.595911  \n",
       "\n",
       "[96 rows x 14 columns]"
      ],
      "text/html": "<div>\n<style scoped>\n    .dataframe tbody tr th:only-of-type {\n        vertical-align: middle;\n    }\n\n    .dataframe tbody tr th {\n        vertical-align: top;\n    }\n\n    .dataframe thead th {\n        text-align: right;\n    }\n</style>\n<table border=\"1\" class=\"dataframe\">\n  <thead>\n    <tr style=\"text-align: right;\">\n      <th></th>\n      <th>Cell line ID</th>\n      <th>Donor ID</th>\n      <th>Cross-val fold</th>\n      <th>Pair ID</th>\n      <th>Disease state</th>\n      <th>Sex</th>\n      <th>Age</th>\n      <th>European ancestry</th>\n      <th>UPDRS score</th>\n      <th>Biopsy collection year</th>\n      <th>Biopsy location</th>\n      <th>Thaw format</th>\n      <th>Thaw freeze date</th>\n      <th>Doubling time</th>\n    </tr>\n  </thead>\n  <tbody>\n    <tr>\n      <th>0</th>\n      <td>01</td>\n      <td>50121</td>\n      <td>1.0</td>\n      <td>0.0</td>\n      <td>Healthy</td>\n      <td>F</td>\n      <td>54</td>\n      <td>0.99</td>\n      <td></td>\n      <td>2012</td>\n      <td>unspecified</td>\n      <td>6w</td>\n      <td>2019-06-17</td>\n      <td>3.316818</td>\n    </tr>\n    <tr>\n      <th>1</th>\n      <td>02</td>\n      <td>51255</td>\n      <td>1.0</td>\n      <td>0.0</td>\n      <td>LRRK2 PD</td>\n      <td>F</td>\n      <td>56</td>\n      <td>0.92</td>\n      <td>71</td>\n      <td>2017</td>\n      <td>left upper thigh</td>\n      <td>6w</td>\n      <td>2019-06-17</td>\n      <td>2.656416</td>\n    </tr>\n    <tr>\n      <th>2</th>\n      <td>03</td>\n      <td>51260</td>\n      <td>2.0</td>\n      <td>1.0</td>\n      <td>Healthy</td>\n      <td>F</td>\n      <td>64</td>\n      <td>0.98</td>\n      <td></td>\n      <td>2017</td>\n      <td>left upper leg</td>\n      <td>12w→6w</td>\n      <td>2019-08-09</td>\n      <td>2.704582</td>\n    </tr>\n    <tr>\n      <th>3</th>\n      <td>04</td>\n      <td>51253</td>\n      <td>2.0</td>\n      <td>1.0</td>\n      <td>Sporadic PD</td>\n      <td>F</td>\n      <td>63</td>\n      <td>0.99</td>\n      <td>23</td>\n      <td>2017</td>\n      <td>left upper arm</td>\n      <td>6w</td>\n      <td>2019-07-30</td>\n      <td>3.411927</td>\n    </tr>\n    <tr>\n      <th>4</th>\n      <td>05</td>\n      <td>50114</td>\n      <td>4.0</td>\n      <td>2.0</td>\n      <td>Healthy</td>\n      <td>M</td>\n      <td>67</td>\n      <td>0.94</td>\n      <td></td>\n      <td>2012</td>\n      <td>unspecified</td>\n      <td>6w</td>\n      <td>2019-07-31</td>\n      <td>2.773009</td>\n    </tr>\n    <tr>\n      <th>...</th>\n      <td>...</td>\n      <td>...</td>\n      <td>...</td>\n      <td>...</td>\n      <td>...</td>\n      <td>...</td>\n      <td>...</td>\n      <td>...</td>\n      <td>...</td>\n      <td>...</td>\n      <td>...</td>\n      <td>...</td>\n      <td>...</td>\n      <td>...</td>\n    </tr>\n    <tr>\n      <th>91</th>\n      <td>92</td>\n      <td>51239</td>\n      <td>NaN</td>\n      <td>NaN</td>\n      <td>Healthy</td>\n      <td>M</td>\n      <td>67</td>\n      <td>0.99</td>\n      <td></td>\n      <td>2019</td>\n      <td>right arm</td>\n      <td>6w</td>\n      <td>2019-07-31</td>\n      <td>2.329057</td>\n    </tr>\n    <tr>\n      <th>92</th>\n      <td>93</td>\n      <td>51093</td>\n      <td>NaN</td>\n      <td>NaN</td>\n      <td>Healthy</td>\n      <td>F</td>\n      <td>77</td>\n      <td>0.99</td>\n      <td></td>\n      <td>2019</td>\n      <td>left arm</td>\n      <td>6w</td>\n      <td>2019-06-19</td>\n      <td>3.080005</td>\n    </tr>\n    <tr>\n      <th>93</th>\n      <td>94</td>\n      <td>51148</td>\n      <td>NaN</td>\n      <td>NaN</td>\n      <td>Healthy</td>\n      <td>M</td>\n      <td>65</td>\n      <td>0.90</td>\n      <td></td>\n      <td>2019</td>\n      <td>upper arm</td>\n      <td>6w</td>\n      <td>2019-08-13</td>\n      <td>2.210402</td>\n    </tr>\n    <tr>\n      <th>94</th>\n      <td>95</td>\n      <td>50492</td>\n      <td>NaN</td>\n      <td>NaN</td>\n      <td>LRRK2 PD</td>\n      <td>M</td>\n      <td>51</td>\n      <td>0.91</td>\n      <td></td>\n      <td>2019</td>\n      <td>left upper arm</td>\n      <td>6w</td>\n      <td>2019-07-18</td>\n      <td>3.553737</td>\n    </tr>\n    <tr>\n      <th>95</th>\n      <td>96</td>\n      <td>50626</td>\n      <td>NaN</td>\n      <td>NaN</td>\n      <td>Sporadic PD</td>\n      <td>M</td>\n      <td>70</td>\n      <td>0.97</td>\n      <td>43</td>\n      <td>2013</td>\n      <td>unspecified</td>\n      <td>6w</td>\n      <td>2019-09-03</td>\n      <td>2.595911</td>\n    </tr>\n  </tbody>\n</table>\n<p>96 rows × 14 columns</p>\n</div>"
     },
     "metadata": {},
     "execution_count": 5
    }
   ],
   "source": [
    "all_metadata_df = pd.read_excel(METADATA_PATH)\n",
    "all_metadata_df"
   ]
  },
  {
   "cell_type": "code",
   "execution_count": 6,
   "metadata": {},
   "outputs": [
    {
     "output_type": "execute_result",
     "data": {
      "text/plain": [
       "   cell_line_id  group disease_state\n",
       "0            01      1       HEALTHY\n",
       "1            02      1         LRRK2\n",
       "2            03      2       HEALTHY\n",
       "3            04      2      SPORADIC\n",
       "4            05      4       HEALTHY\n",
       "..          ...    ...           ...\n",
       "85           86      3      SPORADIC\n",
       "86           87      3       HEALTHY\n",
       "87           88      3      SPORADIC\n",
       "88           89      2       HEALTHY\n",
       "89           90      2      SPORADIC\n",
       "\n",
       "[74 rows x 3 columns]"
      ],
      "text/html": "<div>\n<style scoped>\n    .dataframe tbody tr th:only-of-type {\n        vertical-align: middle;\n    }\n\n    .dataframe tbody tr th {\n        vertical-align: top;\n    }\n\n    .dataframe thead th {\n        text-align: right;\n    }\n</style>\n<table border=\"1\" class=\"dataframe\">\n  <thead>\n    <tr style=\"text-align: right;\">\n      <th></th>\n      <th>cell_line_id</th>\n      <th>group</th>\n      <th>disease_state</th>\n    </tr>\n  </thead>\n  <tbody>\n    <tr>\n      <th>0</th>\n      <td>01</td>\n      <td>1</td>\n      <td>HEALTHY</td>\n    </tr>\n    <tr>\n      <th>1</th>\n      <td>02</td>\n      <td>1</td>\n      <td>LRRK2</td>\n    </tr>\n    <tr>\n      <th>2</th>\n      <td>03</td>\n      <td>2</td>\n      <td>HEALTHY</td>\n    </tr>\n    <tr>\n      <th>3</th>\n      <td>04</td>\n      <td>2</td>\n      <td>SPORADIC</td>\n    </tr>\n    <tr>\n      <th>4</th>\n      <td>05</td>\n      <td>4</td>\n      <td>HEALTHY</td>\n    </tr>\n    <tr>\n      <th>...</th>\n      <td>...</td>\n      <td>...</td>\n      <td>...</td>\n    </tr>\n    <tr>\n      <th>85</th>\n      <td>86</td>\n      <td>3</td>\n      <td>SPORADIC</td>\n    </tr>\n    <tr>\n      <th>86</th>\n      <td>87</td>\n      <td>3</td>\n      <td>HEALTHY</td>\n    </tr>\n    <tr>\n      <th>87</th>\n      <td>88</td>\n      <td>3</td>\n      <td>SPORADIC</td>\n    </tr>\n    <tr>\n      <th>88</th>\n      <td>89</td>\n      <td>2</td>\n      <td>HEALTHY</td>\n    </tr>\n    <tr>\n      <th>89</th>\n      <td>90</td>\n      <td>2</td>\n      <td>SPORADIC</td>\n    </tr>\n  </tbody>\n</table>\n<p>74 rows × 3 columns</p>\n</div>"
     },
     "metadata": {},
     "execution_count": 6
    }
   ],
   "source": [
    "def clean_up_relevant_metadata(all_metadata_df):\n",
    "  \"\"\"Make a clean version of the relevant metadata columns we need to join with the embedding dataframe.\"\"\"\n",
    "  # Select the columns from the metadata that we want to merge in with the embeddings.\n",
    "  metadata_to_merge_df = all_metadata_df[['Cell line ID', 'Cross-val fold', 'Disease state']].copy()\n",
    "\n",
    "  # Rename the columns.\n",
    "  metadata_to_merge_df.columns = ['cell_line_id', 'group', 'disease_state']\n",
    "\n",
    "  # Make the disease state uppercase.\n",
    "  metadata_to_merge_df['disease_state'] = metadata_to_merge_df['disease_state'].str.upper()\n",
    "\n",
    "  # Fix the naming of the disease_state.\n",
    "  metadata_to_merge_df['disease_state'].replace('SPORADIC PD', 'SPORADIC', inplace=True)\n",
    "  metadata_to_merge_df['disease_state'].replace('LRRK2 PD','LRRK2', inplace=True)\n",
    "  metadata_to_merge_df['disease_state'].replace('HEALTHY*','HEALTHY', inplace=True)  # May not be healthy. See paper for details.\n",
    "\n",
    "  # Strip off the whitespace on the cell line id.\n",
    "  metadata_to_merge_df.loc[:, 'cell_line_id'] = metadata_to_merge_df['cell_line_id'].str.strip()\n",
    "\n",
    "  # Remove the * from some of the cell_line_id so we can join.\n",
    "  metadata_to_merge_df['cell_line_id'].replace('48*', '48', inplace=True)\n",
    "  metadata_to_merge_df['cell_line_id'].replace('57*', '57', inplace=True)\n",
    "\n",
    "  # Drop any rows that do not have a cross validation group set. This drops all the GBA lines.\n",
    "  metadata_to_merge_df.dropna(axis=0, subset=['group'], inplace=True)\n",
    "\n",
    "  # Make cross validation group an int.\n",
    "  metadata_to_merge_df['group'] = metadata_to_merge_df['group'].astype(int)\n",
    "\n",
    "  return metadata_to_merge_df\n",
    "\n",
    "metadata_to_merge_df = clean_up_relevant_metadata(all_metadata_df)\n",
    "metadata_to_merge_df"
   ]
  },
  {
   "cell_type": "code",
   "execution_count": 7,
   "metadata": {},
   "outputs": [
    {
     "output_type": "execute_result",
     "data": {
      "text/plain": [
       "     cell_line_id  group disease_state batch  plateset plate well         0  \\\n",
       "0              01      1       HEALTHY     1         1    07  D03  0.004184   \n",
       "1              01      1       HEALTHY     2         1    07  D03  0.004639   \n",
       "2              01      1       HEALTHY     3         1    07  D03  0.012636   \n",
       "3              01      1       HEALTHY     4         1    07  D03  0.008200   \n",
       "4              01      1       HEALTHY     1         1    08  D03  0.002618   \n",
       "...           ...    ...           ...   ...       ...   ...  ...       ...   \n",
       "3529           90      2      SPORADIC     1         1    11  E03  0.015173   \n",
       "3530           90      2      SPORADIC     3         1    11  E03  0.006690   \n",
       "3531           90      2      SPORADIC     4         1    11  E03 -0.001238   \n",
       "3532           90      2      SPORADIC     1         1    12  E03 -0.000022   \n",
       "3533           90      2      SPORADIC     3         1    12  E03  0.024751   \n",
       "\n",
       "             1         2  ...       310       311       312       313  \\\n",
       "0     0.040249  0.026530  ... -0.015100 -0.017746  0.045604 -0.016558   \n",
       "1     0.020272  0.018574  ... -0.009795  0.004587  0.049970 -0.020397   \n",
       "2     0.029946  0.016748  ... -0.021145 -0.009695  0.050091 -0.000340   \n",
       "3     0.013857  0.012598  ... -0.026685  0.004242  0.031001  0.001708   \n",
       "4     0.030171  0.027768  ... -0.004445 -0.015143  0.045930 -0.024526   \n",
       "...        ...       ...  ...       ...       ...       ...       ...   \n",
       "3529  0.014493 -0.002184  ... -0.008282 -0.030635  0.015056 -0.021353   \n",
       "3530 -0.010136 -0.000080  ...  0.022990 -0.010417 -0.019210 -0.038663   \n",
       "3531 -0.085635 -0.029494  ...  0.005093  0.048951  0.002258  0.052432   \n",
       "3532 -0.045230 -0.024410  ...  0.001309  0.017465 -0.013068  0.012519   \n",
       "3533 -0.030504 -0.021085  ...  0.002555 -0.015832  0.013252 -0.016411   \n",
       "\n",
       "           314       315       316       317       318       319  \n",
       "0     0.040380  0.000401  0.000483 -0.017317 -0.019437 -0.026159  \n",
       "1     0.016456 -0.014867 -0.005192 -0.006122 -0.021637 -0.039839  \n",
       "2     0.016756 -0.011345 -0.000120 -0.011953 -0.023764 -0.029296  \n",
       "3     0.006971  0.004401  0.014787 -0.013059 -0.025400 -0.022717  \n",
       "4     0.041045 -0.015062  0.004498 -0.007361 -0.022869 -0.049547  \n",
       "...        ...       ...       ...       ...       ...       ...  \n",
       "3529  0.036720  0.002607 -0.011756 -0.035307 -0.001649 -0.016294  \n",
       "3530  0.021145  0.026774 -0.019745 -0.020217  0.007407  0.001976  \n",
       "3531 -0.049021  0.008997 -0.001029  0.031468  0.009586  0.057692  \n",
       "3532 -0.025893  0.027894 -0.002240 -0.002403  0.009480  0.014004  \n",
       "3533  0.029342  0.001236 -0.031953 -0.023168  0.005218  0.015303  \n",
       "\n",
       "[3534 rows x 327 columns]"
      ],
      "text/html": "<div>\n<style scoped>\n    .dataframe tbody tr th:only-of-type {\n        vertical-align: middle;\n    }\n\n    .dataframe tbody tr th {\n        vertical-align: top;\n    }\n\n    .dataframe thead th {\n        text-align: right;\n    }\n</style>\n<table border=\"1\" class=\"dataframe\">\n  <thead>\n    <tr style=\"text-align: right;\">\n      <th></th>\n      <th>cell_line_id</th>\n      <th>group</th>\n      <th>disease_state</th>\n      <th>batch</th>\n      <th>plateset</th>\n      <th>plate</th>\n      <th>well</th>\n      <th>0</th>\n      <th>1</th>\n      <th>2</th>\n      <th>...</th>\n      <th>310</th>\n      <th>311</th>\n      <th>312</th>\n      <th>313</th>\n      <th>314</th>\n      <th>315</th>\n      <th>316</th>\n      <th>317</th>\n      <th>318</th>\n      <th>319</th>\n    </tr>\n  </thead>\n  <tbody>\n    <tr>\n      <th>0</th>\n      <td>01</td>\n      <td>1</td>\n      <td>HEALTHY</td>\n      <td>1</td>\n      <td>1</td>\n      <td>07</td>\n      <td>D03</td>\n      <td>0.004184</td>\n      <td>0.040249</td>\n      <td>0.026530</td>\n      <td>...</td>\n      <td>-0.015100</td>\n      <td>-0.017746</td>\n      <td>0.045604</td>\n      <td>-0.016558</td>\n      <td>0.040380</td>\n      <td>0.000401</td>\n      <td>0.000483</td>\n      <td>-0.017317</td>\n      <td>-0.019437</td>\n      <td>-0.026159</td>\n    </tr>\n    <tr>\n      <th>1</th>\n      <td>01</td>\n      <td>1</td>\n      <td>HEALTHY</td>\n      <td>2</td>\n      <td>1</td>\n      <td>07</td>\n      <td>D03</td>\n      <td>0.004639</td>\n      <td>0.020272</td>\n      <td>0.018574</td>\n      <td>...</td>\n      <td>-0.009795</td>\n      <td>0.004587</td>\n      <td>0.049970</td>\n      <td>-0.020397</td>\n      <td>0.016456</td>\n      <td>-0.014867</td>\n      <td>-0.005192</td>\n      <td>-0.006122</td>\n      <td>-0.021637</td>\n      <td>-0.039839</td>\n    </tr>\n    <tr>\n      <th>2</th>\n      <td>01</td>\n      <td>1</td>\n      <td>HEALTHY</td>\n      <td>3</td>\n      <td>1</td>\n      <td>07</td>\n      <td>D03</td>\n      <td>0.012636</td>\n      <td>0.029946</td>\n      <td>0.016748</td>\n      <td>...</td>\n      <td>-0.021145</td>\n      <td>-0.009695</td>\n      <td>0.050091</td>\n      <td>-0.000340</td>\n      <td>0.016756</td>\n      <td>-0.011345</td>\n      <td>-0.000120</td>\n      <td>-0.011953</td>\n      <td>-0.023764</td>\n      <td>-0.029296</td>\n    </tr>\n    <tr>\n      <th>3</th>\n      <td>01</td>\n      <td>1</td>\n      <td>HEALTHY</td>\n      <td>4</td>\n      <td>1</td>\n      <td>07</td>\n      <td>D03</td>\n      <td>0.008200</td>\n      <td>0.013857</td>\n      <td>0.012598</td>\n      <td>...</td>\n      <td>-0.026685</td>\n      <td>0.004242</td>\n      <td>0.031001</td>\n      <td>0.001708</td>\n      <td>0.006971</td>\n      <td>0.004401</td>\n      <td>0.014787</td>\n      <td>-0.013059</td>\n      <td>-0.025400</td>\n      <td>-0.022717</td>\n    </tr>\n    <tr>\n      <th>4</th>\n      <td>01</td>\n      <td>1</td>\n      <td>HEALTHY</td>\n      <td>1</td>\n      <td>1</td>\n      <td>08</td>\n      <td>D03</td>\n      <td>0.002618</td>\n      <td>0.030171</td>\n      <td>0.027768</td>\n      <td>...</td>\n      <td>-0.004445</td>\n      <td>-0.015143</td>\n      <td>0.045930</td>\n      <td>-0.024526</td>\n      <td>0.041045</td>\n      <td>-0.015062</td>\n      <td>0.004498</td>\n      <td>-0.007361</td>\n      <td>-0.022869</td>\n      <td>-0.049547</td>\n    </tr>\n    <tr>\n      <th>...</th>\n      <td>...</td>\n      <td>...</td>\n      <td>...</td>\n      <td>...</td>\n      <td>...</td>\n      <td>...</td>\n      <td>...</td>\n      <td>...</td>\n      <td>...</td>\n      <td>...</td>\n      <td>...</td>\n      <td>...</td>\n      <td>...</td>\n      <td>...</td>\n      <td>...</td>\n      <td>...</td>\n      <td>...</td>\n      <td>...</td>\n      <td>...</td>\n      <td>...</td>\n      <td>...</td>\n    </tr>\n    <tr>\n      <th>3529</th>\n      <td>90</td>\n      <td>2</td>\n      <td>SPORADIC</td>\n      <td>1</td>\n      <td>1</td>\n      <td>11</td>\n      <td>E03</td>\n      <td>0.015173</td>\n      <td>0.014493</td>\n      <td>-0.002184</td>\n      <td>...</td>\n      <td>-0.008282</td>\n      <td>-0.030635</td>\n      <td>0.015056</td>\n      <td>-0.021353</td>\n      <td>0.036720</td>\n      <td>0.002607</td>\n      <td>-0.011756</td>\n      <td>-0.035307</td>\n      <td>-0.001649</td>\n      <td>-0.016294</td>\n    </tr>\n    <tr>\n      <th>3530</th>\n      <td>90</td>\n      <td>2</td>\n      <td>SPORADIC</td>\n      <td>3</td>\n      <td>1</td>\n      <td>11</td>\n      <td>E03</td>\n      <td>0.006690</td>\n      <td>-0.010136</td>\n      <td>-0.000080</td>\n      <td>...</td>\n      <td>0.022990</td>\n      <td>-0.010417</td>\n      <td>-0.019210</td>\n      <td>-0.038663</td>\n      <td>0.021145</td>\n      <td>0.026774</td>\n      <td>-0.019745</td>\n      <td>-0.020217</td>\n      <td>0.007407</td>\n      <td>0.001976</td>\n    </tr>\n    <tr>\n      <th>3531</th>\n      <td>90</td>\n      <td>2</td>\n      <td>SPORADIC</td>\n      <td>4</td>\n      <td>1</td>\n      <td>11</td>\n      <td>E03</td>\n      <td>-0.001238</td>\n      <td>-0.085635</td>\n      <td>-0.029494</td>\n      <td>...</td>\n      <td>0.005093</td>\n      <td>0.048951</td>\n      <td>0.002258</td>\n      <td>0.052432</td>\n      <td>-0.049021</td>\n      <td>0.008997</td>\n      <td>-0.001029</td>\n      <td>0.031468</td>\n      <td>0.009586</td>\n      <td>0.057692</td>\n    </tr>\n    <tr>\n      <th>3532</th>\n      <td>90</td>\n      <td>2</td>\n      <td>SPORADIC</td>\n      <td>1</td>\n      <td>1</td>\n      <td>12</td>\n      <td>E03</td>\n      <td>-0.000022</td>\n      <td>-0.045230</td>\n      <td>-0.024410</td>\n      <td>...</td>\n      <td>0.001309</td>\n      <td>0.017465</td>\n      <td>-0.013068</td>\n      <td>0.012519</td>\n      <td>-0.025893</td>\n      <td>0.027894</td>\n      <td>-0.002240</td>\n      <td>-0.002403</td>\n      <td>0.009480</td>\n      <td>0.014004</td>\n    </tr>\n    <tr>\n      <th>3533</th>\n      <td>90</td>\n      <td>2</td>\n      <td>SPORADIC</td>\n      <td>3</td>\n      <td>1</td>\n      <td>12</td>\n      <td>E03</td>\n      <td>0.024751</td>\n      <td>-0.030504</td>\n      <td>-0.021085</td>\n      <td>...</td>\n      <td>0.002555</td>\n      <td>-0.015832</td>\n      <td>0.013252</td>\n      <td>-0.016411</td>\n      <td>0.029342</td>\n      <td>0.001236</td>\n      <td>-0.031953</td>\n      <td>-0.023168</td>\n      <td>0.005218</td>\n      <td>0.015303</td>\n    </tr>\n  </tbody>\n</table>\n<p>3534 rows × 327 columns</p>\n</div>"
     },
     "metadata": {},
     "execution_count": 7
    }
   ],
   "source": [
    "def merge_metadata_with_embedding_df(embedding_df, metadata_to_merge_df):\n",
    "  \"\"\"Join the metadata with the embedding dataframe.\"\"\"\n",
    "  # Reset the index of the embedding dataframe before merge.\n",
    "  embedding_to_merge_df = embedding_df.reset_index()\n",
    "\n",
    "  # Merge the embedding data with the metadata.\n",
    "  merged_df = pd.merge(metadata_to_merge_df, embedding_to_merge_df, on='cell_line_id')\n",
    "\n",
    "  return merged_df\n",
    "\n",
    "train_test_df = merge_metadata_with_embedding_df(embedding_df, metadata_to_merge_df)\n",
    "train_test_df"
   ]
  },
  {
   "cell_type": "code",
   "execution_count": 8,
   "metadata": {},
   "outputs": [],
   "source": [
    "def run_prediction_model(data, model_name):\n",
    "  \"\"\"Train the model and return the prediction results.\"\"\"\n",
    "  Results = pd.DataFrame(\n",
    "      columns=['group0', 'group1', 'group2', 'group3', 'group4', 'mean', 'std'])\n",
    "\n",
    "  for fold in np.unique(data.group):\n",
    "    auxTrain = data.loc[data.group != fold]\n",
    "    aux_test = data.loc[data.group == fold]\n",
    "    auxTrain = auxTrain.sort_values(axis=0, by=['batch', 'plate', 'well'])\n",
    "    X_train = auxTrain.iloc[:,7:]\n",
    "    Targ = auxTrain.disease_state\n",
    "    Targ = Targ.replace('HEALTHY', 0)\n",
    "    Targ = Targ.replace('SPORADIC', 1)\n",
    "    y_train = Targ.replace('LRRK2', 1)\n",
    "\n",
    "    aux_test = aux_test.sort_values(axis=0, by=['batch', 'plate', 'well'])\n",
    "    X_test = aux_test.iloc[:,7:]\n",
    "    Targ = aux_test.disease_state\n",
    "    Targ = Targ.replace('HEALTHY', 0)\n",
    "    Targ = Targ.replace('SPORADIC', 1)\n",
    "    y_test = Targ.replace('LRRK2', 1)\n",
    "\n",
    "    if model_name == 'LogisticCV':\n",
    "      RF = sklearn.linear_model.LogisticRegressionCV(\n",
    "          solver='lbfgs', max_iter=1000000)\n",
    "    elif model_name == 'Logistic':\n",
    "      RF = sklearn.linear_model.LogisticRegression(solver='lbfgs')\n",
    "    elif model_name == 'RidgeCV':\n",
    "      RF = sklearn.linear_model.RidgeCV()\n",
    "    else:\n",
    "      raise ValueError('Unknown model_name: %s' % model_name)\n",
    "\n",
    "    RF.fit(X_train, y_train)\n",
    "    rf_predictions = RF.predict(X_test)\n",
    "    if model_name == 'RidgeCV':\n",
    "      preds = RF.predict(X_test)\n",
    "    else:\n",
    "      preds = RF.predict_proba(X_test)[:, 1]\n",
    "    pred_df = pd.DataFrame(data=preds, index=X_test.index, columns=['pred'])\n",
    "    pred_df['cell_line_id'] = aux_test.cell_line_id\n",
    "    pred_arr = pred_df.groupby('cell_line_id').mean()\n",
    "    pred_df['disease_state'] = aux_test.disease_state\n",
    "    pred_arr = pred_df.groupby(['cell_line_id', 'disease_state']).mean()\n",
    "    pred_arr = pred_arr.reset_index()\n",
    "    pred_arr['true'] = 0\n",
    "    for line in pred_arr.cell_line_id:\n",
    "      if aux_test.loc[aux_test.cell_line_id == line,\n",
    "                      'disease_state'].values[0] != 'HEALTHY':\n",
    "        pred_arr.loc[pred_arr.cell_line_id == line, 'true'] = 1\n",
    "    Results.loc[\n",
    "        'sporadic_AUC', 'group' + str(int(fold))] = sklearn.metrics.roc_auc_score(\n",
    "            pred_arr.drop(\n",
    "                pred_arr.loc[pred_arr.disease_state == 'LRRK2'].index).true,\n",
    "            pred_arr.drop(\n",
    "                pred_arr.loc[pred_arr.disease_state == 'LRRK2'].index).pred)\n",
    "    Results.loc[\n",
    "        'LRRK2_AUC', 'group' + str(int(fold))] = sklearn.metrics.roc_auc_score(\n",
    "            pred_arr.drop(\n",
    "                pred_arr.loc[pred_arr.disease_state == 'SPORADIC'].index).true,\n",
    "            pred_arr.drop(\n",
    "                pred_arr.loc[pred_arr.disease_state == 'SPORADIC'].index).pred)\n",
    "    Results.loc['total_AUC',\n",
    "                'group' + str(int(fold))] = sklearn.metrics.roc_auc_score(\n",
    "                    pred_arr.true, pred_arr.pred)\n",
    "\n",
    "  Results.loc['sporadic_AUC', 'mean'] = np.mean(Results.loc['sporadic_AUC'].values[0:-2])\n",
    "  Results.loc['sporadic_AUC', 'std'] = np.std(Results.loc['sporadic_AUC'].values[0:-2])\n",
    "  Results.loc['LRRK2_AUC', 'mean'] = np.mean(Results.loc['LRRK2_AUC'].values[0:-2])\n",
    "  Results.loc['LRRK2_AUC', 'std'] = np.std(Results.loc['LRRK2_AUC'].values[0:-2])\n",
    "\n",
    "  Results.loc['total_AUC',\n",
    "              'mean'] = np.mean(Results.loc['total_AUC'].values[0:-2])\n",
    "  Results.loc['total_AUC', 'std'] = np.std(Results.loc['total_AUC'].values[0:-2])\n",
    "  return Results\n"
   ]
  },
  {
   "cell_type": "code",
   "execution_count": 9,
   "metadata": {},
   "outputs": [
    {
     "output_type": "execute_result",
     "data": {
      "text/plain": [
       "                group0    group1    group2    group3    group4      mean  \\\n",
       "sporadic_AUC  0.785714  0.942857  0.690476  0.666667  0.785714  0.774286   \n",
       "LRRK2_AUC         0.75  0.857143  0.857143         1         1  0.892857   \n",
       "total_AUC      0.78125  0.918367  0.714286  0.714286    0.8125  0.788138   \n",
       "\n",
       "                    std  \n",
       "sporadic_AUC  0.0972455  \n",
       "LRRK2_AUC     0.0958315  \n",
       "total_AUC     0.0755102  "
      ],
      "text/html": "<div>\n<style scoped>\n    .dataframe tbody tr th:only-of-type {\n        vertical-align: middle;\n    }\n\n    .dataframe tbody tr th {\n        vertical-align: top;\n    }\n\n    .dataframe thead th {\n        text-align: right;\n    }\n</style>\n<table border=\"1\" class=\"dataframe\">\n  <thead>\n    <tr style=\"text-align: right;\">\n      <th></th>\n      <th>group0</th>\n      <th>group1</th>\n      <th>group2</th>\n      <th>group3</th>\n      <th>group4</th>\n      <th>mean</th>\n      <th>std</th>\n    </tr>\n  </thead>\n  <tbody>\n    <tr>\n      <th>sporadic_AUC</th>\n      <td>0.785714</td>\n      <td>0.942857</td>\n      <td>0.690476</td>\n      <td>0.666667</td>\n      <td>0.785714</td>\n      <td>0.774286</td>\n      <td>0.0972455</td>\n    </tr>\n    <tr>\n      <th>LRRK2_AUC</th>\n      <td>0.75</td>\n      <td>0.857143</td>\n      <td>0.857143</td>\n      <td>1</td>\n      <td>1</td>\n      <td>0.892857</td>\n      <td>0.0958315</td>\n    </tr>\n    <tr>\n      <th>total_AUC</th>\n      <td>0.78125</td>\n      <td>0.918367</td>\n      <td>0.714286</td>\n      <td>0.714286</td>\n      <td>0.8125</td>\n      <td>0.788138</td>\n      <td>0.0755102</td>\n    </tr>\n  </tbody>\n</table>\n</div>"
     },
     "metadata": {},
     "execution_count": 9
    }
   ],
   "source": [
    "logistic_cv_result = run_prediction_model(train_test_df,'LogisticCV')\n",
    "logistic_cv_result"
   ]
  },
  {
   "cell_type": "code",
   "execution_count": 10,
   "metadata": {},
   "outputs": [
    {
     "output_type": "execute_result",
     "data": {
      "text/plain": [
       "              mean   std\n",
       "sporadic_AUC  0.77   0.1\n",
       "LRRK2_AUC     0.89   0.1\n",
       "total_AUC     0.79  0.08"
      ],
      "text/html": "<div>\n<style scoped>\n    .dataframe tbody tr th:only-of-type {\n        vertical-align: middle;\n    }\n\n    .dataframe tbody tr th {\n        vertical-align: top;\n    }\n\n    .dataframe thead th {\n        text-align: right;\n    }\n</style>\n<table border=\"1\" class=\"dataframe\">\n  <thead>\n    <tr style=\"text-align: right;\">\n      <th></th>\n      <th>mean</th>\n      <th>std</th>\n    </tr>\n  </thead>\n  <tbody>\n    <tr>\n      <th>sporadic_AUC</th>\n      <td>0.77</td>\n      <td>0.1</td>\n    </tr>\n    <tr>\n      <th>LRRK2_AUC</th>\n      <td>0.89</td>\n      <td>0.1</td>\n    </tr>\n    <tr>\n      <th>total_AUC</th>\n      <td>0.79</td>\n      <td>0.08</td>\n    </tr>\n  </tbody>\n</table>\n</div>"
     },
     "metadata": {},
     "execution_count": 10
    }
   ],
   "source": [
    "paper_result_df = pd.DataFrame(columns=['mean','std'])\n",
    "paper_result_df.loc['sporadic_AUC','mean'] = 0.77\n",
    "paper_result_df.loc['sporadic_AUC','std'] = 0.10\n",
    "paper_result_df.loc['LRRK2_AUC','mean'] = 0.89\n",
    "paper_result_df.loc['LRRK2_AUC','std'] = 0.10\n",
    "paper_result_df.loc['total_AUC','mean'] = 0.79\n",
    "paper_result_df.loc['total_AUC','std'] = 0.08\n",
    "paper_result_df"
   ]
  },
  {
   "cell_type": "code",
   "execution_count": 11,
   "metadata": {},
   "outputs": [],
   "source": [
    "pd.testing.assert_frame_equal(logistic_cv_result[['mean', 'std']], paper_result_df, atol=1e-2)"
   ]
  },
  {
   "cell_type": "code",
   "execution_count": null,
   "metadata": {},
   "outputs": [],
   "source": []
  }
 ],
 "metadata": {
  "kernelspec": {
   "display_name": "Python 3",
   "language": "python",
   "name": "python3"
  },
  "language_info": {
   "codemirror_mode": {
    "name": "ipython",
    "version": 3
   },
   "file_extension": ".py",
   "mimetype": "text/x-python",
   "name": "python",
   "nbconvert_exporter": "python",
   "pygments_lexer": "ipython3",
   "version": "3.7.6-final"
  }
 },
 "nbformat": 4,
 "nbformat_minor": 4
}
